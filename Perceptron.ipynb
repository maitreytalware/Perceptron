{
 "cells": [
  {
   "cell_type": "markdown",
   "metadata": {},
   "source": [
    "# **Name - Maitrey Talware**\n",
    "# **NetId- mt3915**\n",
    "### Perceptron Code"
   ]
  },
  {
   "cell_type": "code",
   "execution_count": 3,
   "metadata": {},
   "outputs": [
    {
     "name": "stdout",
     "output_type": "stream",
     "text": [
      "Number of iterations 23\n",
      "final weight\n",
      " [[ 5. -3.]\n",
      " [ 3.  7.]\n",
      " [-3.  5.]]\n",
      "final bias\n",
      " [-1.  3.]\n"
     ]
    }
   ],
   "source": [
    "import numpy as np\n",
    "input_mat=np.array([[1,1,1],[1,1,-1],[-1,1,1],[-1,-1,1],[1,-1,-1],[1,-1,1]])\n",
    "target=np.array([[1,1],[1,1],[-1,1],[-1,1],[1,-1],[-1,-1]])\n",
    "\n",
    "lr=1\n",
    "theta=0.7\n",
    "#------ setting initial weight and bias ---------\n",
    "w=np.zeros(6).reshape(3,2)\n",
    "b=np.zeros(2)\n",
    "counter=0\n",
    "iteration=0\n",
    "flag=0\n",
    "pred=np.array([999,999])\n",
    "def backprop(w,b,inp,tar):\n",
    "    wnew=w+lr*(np.dot(inp.reshape(1,3).T,tar.reshape(1,2)))\n",
    "    bias= b + lr*tar\n",
    "    return wnew,bias\n",
    "\n",
    "while flag==0:\n",
    "    for i in range(len(input_mat)):\n",
    "        f=np.dot(input_mat[i],w)+b\n",
    "        #--- activation ----------\n",
    "        if f[0]>theta:\n",
    "            pred[0]=1\n",
    "        if f[0]<-theta:\n",
    "            pred[0]=-1\n",
    "        if theta>=f[0]>=-theta:\n",
    "            pred[0]=0    \n",
    "        if f[1]>theta:\n",
    "            pred[1]=1\n",
    "        if f[1]<-theta:\n",
    "            pred[1]=-1\n",
    "        if theta>=f[1]>=-theta:\n",
    "            pred[1]=0        \n",
    "        if not np.array_equal(np.array(pred),target[i]):\n",
    "            w,b=backprop(w,b,input_mat[i],target[i])\n",
    "            counter=0  \n",
    "        counter=counter+1 \n",
    "        iteration=iteration+1\n",
    "        if counter>6:\n",
    "            flag=1\n",
    "            break\n",
    "print(\"Number of iterations\",iteration) \n",
    "print(\"final weight\\n\",w)\n",
    "print(\"final bias\\n\",b)\n",
    "    "
   ]
  },
  {
   "cell_type": "code",
   "execution_count": null,
   "metadata": {},
   "outputs": [],
   "source": []
  }
 ],
 "metadata": {
  "kernelspec": {
   "display_name": "Python 3",
   "language": "python",
   "name": "python3"
  },
  "language_info": {
   "codemirror_mode": {
    "name": "ipython",
    "version": 3
   },
   "file_extension": ".py",
   "mimetype": "text/x-python",
   "name": "python",
   "nbconvert_exporter": "python",
   "pygments_lexer": "ipython3",
   "version": "3.7.4"
  }
 },
 "nbformat": 4,
 "nbformat_minor": 2
}
